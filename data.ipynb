{
 "cells": [
  {
   "cell_type": "code",
   "execution_count": 23,
   "metadata": {
    "collapsed": true
   },
   "outputs": [
    {
     "name": "stdout",
     "output_type": "stream",
     "text": [
      "{\"answer\": \"yes\", \"question\": \"Are there any light moving gray objects when the video ends?\", \"video_id\": \"video0\", \"answer_type\": \"object_mass_exist\"}\n"
     ]
    }
   ],
   "source": [
    "import json\n",
    "\n",
    "data_path = '/Users/myding/Desktop/questions_v16_3_4/'\n",
    "des_path = data_path + 'open_end_questions.json'\n",
    "mc_path = data_path + 'multiple_choice_questions.json'\n",
    "\n",
    "\n",
    "answer_list = []\n",
    "\n",
    "question_data = json.load(open(des_path))\n",
    "\n",
    "for index, questions in enumerate(question_data):\n",
    "    if (index + 1) % 100 == 0:\n",
    "        print(index)\n",
    "\n",
    "    for item in questions[\"questions\"]:\n",
    "        data_item = {}\n",
    "        question = item['question']\n",
    "        answer = item['answer']\n",
    "        words = question.replace('?', '').strip().split()\n",
    "        data_item['answer'] = answer\n",
    "        data_item['question'] = question\n",
    "        data_item['video_id'] = 'video' + str(index)\n",
    "        data_item['answer_type'] = item['question_family']\n",
    "        print(json.dumps(data_item))\n",
    "        word_set = answer.split()\n",
    "        word_set.sort()\n",
    "        answer_list.append('_'.join(word_set))"
   ]
  },
  {
   "cell_type": "code",
   "execution_count": 19,
   "outputs": [
    {
     "name": "stdout",
     "output_type": "stream",
     "text": [
      "99\n",
      "199\n",
      "299\n",
      "399\n",
      "499\n",
      "599\n",
      "699\n",
      "799\n",
      "899\n",
      "999\n",
      "1099\n",
      "1199\n",
      "1299\n",
      "1399\n",
      "1499\n",
      "1599\n",
      "1699\n",
      "1799\n",
      "1899\n",
      "1999\n",
      "2099\n",
      "2199\n",
      "2299\n",
      "2399\n",
      "2499\n",
      "2599\n",
      "2699\n",
      "2799\n",
      "2899\n",
      "2999\n",
      "3099\n",
      "3199\n",
      "3299\n",
      "3399\n",
      "3499\n",
      "3599\n",
      "3699\n",
      "3799\n",
      "3899\n",
      "3999\n",
      "4099\n",
      "4199\n",
      "4299\n",
      "4399\n",
      "4499\n",
      "4599\n",
      "4699\n",
      "4799\n",
      "4899\n",
      "4999\n",
      "5099\n",
      "5199\n",
      "5299\n",
      "5399\n",
      "5499\n",
      "5599\n",
      "5699\n",
      "5799\n",
      "5899\n",
      "5999\n",
      "6099\n",
      "6199\n",
      "6299\n",
      "6399\n",
      "6499\n",
      "6599\n",
      "6699\n",
      "6799\n",
      "6899\n",
      "6999\n",
      "7099\n",
      "7199\n",
      "7299\n",
      "7399\n",
      "7499\n",
      "7599\n",
      "7699\n",
      "7799\n",
      "7899\n",
      "7999\n",
      "8099\n",
      "8199\n",
      "8299\n",
      "8399\n",
      "8499\n",
      "8599\n",
      "8699\n",
      "8799\n",
      "8899\n",
      "8999\n",
      "9099\n",
      "9199\n",
      "9299\n",
      "9399\n",
      "9499\n",
      "9599\n",
      "9699\n",
      "9799\n",
      "9899\n",
      "9999\n"
     ]
    }
   ],
   "source": [
    "question_data = json.load(open(mc_path))\n",
    "\n",
    "for index, questions in enumerate(question_data):\n",
    "    if (index + 1) % 100 == 0:\n",
    "        print(index)\n",
    "    for item in questions[\"questions\"]:\n",
    "        # print(item)\n",
    "        # break\n",
    "        question = item['question']\n",
    "        correct = item['correct']\n",
    "        answer = 'True'\n",
    "        answer_list.append(answer)\n",
    "        for i in correct:\n",
    "            data_item = {}\n",
    "            data_item['question'] = question + ' ' + i[0]\n",
    "            data_item['answer'] = answer\n",
    "            data_item['video_id'] = 'video' + str(index)\n",
    "            data_item['answer_type'] = item['question_type']\n",
    "        wrong = item['wrong']\n",
    "        answer = 'False'\n",
    "        answer_list.append(answer)\n",
    "        for i in wrong:\n",
    "            data_item = {}\n",
    "            data_item['question'] = question + ' ' + i[0]\n",
    "            data_item['answer'] = answer\n",
    "            data_item['video_id'] = 'video' + str(index)\n",
    "            data_item['answer_type'] = item['question_type']"
   ],
   "metadata": {
    "collapsed": false,
    "pycharm": {
     "name": "#%%\n"
    }
   }
  },
  {
   "cell_type": "code",
   "execution_count": 20,
   "outputs": [],
   "source": [
    "answer_dict = {}\n",
    "answer_vocab = list(set(answer_list))\n",
    "for index, item in enumerate(answer_vocab):\n",
    "    answer_dict[item] = index"
   ],
   "metadata": {
    "collapsed": false,
    "pycharm": {
     "name": "#%%\n"
    }
   }
  },
  {
   "cell_type": "code",
   "execution_count": 21,
   "outputs": [
    {
     "data": {
      "text/plain": "{'left': 0,\n 'green': 1,\n 'and_gray_yellow': 2,\n 'gray': 3,\n 'and_purple_red': 4,\n 'and_blue_yellow': 5,\n 'and_blue_red': 6,\n 'and_blue_purple': 7,\n 'and_cylinder_sphere': 8,\n 'and_gray_green': 9,\n '2': 10,\n 'cube': 11,\n 'and_gray_purple': 12,\n 'yes': 13,\n 'and_cube_sphere': 14,\n 'rubber': 15,\n 'and_cyan_red': 16,\n 'and_cyan_purple': 17,\n 'no': 18,\n 'and_cyan_yellow': 19,\n 'and_cyan_green': 20,\n 'True': 21,\n 'right': 22,\n 'and_gray_red': 23,\n 'and_blue_green': 24,\n 'and_brown_green': 25,\n 'cylinder': 26,\n 'and_brown_red': 27,\n 'and_blue_gray': 28,\n 'sphere': 29,\n 'down': 30,\n 'and_cube_cylinder': 31,\n '4': 32,\n 'and_blue_cyan': 33,\n 'and_cyan_gray': 34,\n 'and_green_yellow': 35,\n 'and_green_purple': 36,\n 'and_brown_gray': 37,\n 'False': 38,\n '3': 39,\n 'cyan': 40,\n 'yellow': 41,\n 'and_blue_brown': 42,\n 'and_brown_purple': 43,\n '0': 44,\n 'and_brown_cyan': 45,\n 'red': 46,\n 'and_purple_yellow': 47,\n 'and_green_red': 48,\n 'metal': 49,\n 'brown': 50,\n '1': 51,\n 'up': 52,\n 'purple': 53,\n 'and_brown_yellow': 54,\n 'and_red_yellow': 55,\n 'blue': 56}"
     },
     "execution_count": 21,
     "metadata": {},
     "output_type": "execute_result"
    }
   ],
   "source": [
    "answer_dict"
   ],
   "metadata": {
    "collapsed": false,
    "pycharm": {
     "name": "#%%\n"
    }
   }
  },
  {
   "cell_type": "code",
   "execution_count": null,
   "outputs": [],
   "source": [
    "data_dir = '/Users/myding/Desktop/demo25/frames'\n",
    "\n",
    "ffmpeg -framerate 25 -loop 0 -f image2 -i /Users/myding/Desktop/demo25/frames/frame_%05d.png \\\n",
    "                            -pix_fmt yuv420p -vcodec libx264 -crf 23 data.mp4"
   ],
   "metadata": {
    "collapsed": false,
    "pycharm": {
     "name": "#%%\n"
    }
   }
  },
  {
   "cell_type": "code",
   "execution_count": 1,
   "outputs": [],
   "source": [
    "import lmdb\n",
    "import cv2\n",
    "import os\n",
    "import multiprocessing as mp\n",
    "from tqdm import tqdm\n",
    "from os.path import join\n",
    "\n",
    "\n",
    "def read_raw_binary_file(file_path):\n",
    "    \"\"\"can actually be any file\"\"\"\n",
    "    with open(file_path, 'rb') as f:\n",
    "        return f.read()\n",
    "\n",
    "\n",
    "def read_raw_binary_from_pair(id_path_pair):\n",
    "    file_id, filepath = id_path_pair\n",
    "    try:\n",
    "        file_byte_str = read_raw_binary_file(filepath)\n",
    "        return file_id, file_byte_str\n",
    "    except Exception as e:\n",
    "        return filepath, None\n",
    "\n",
    "\n",
    "def get_abspaths_by_ext(dir_path, ext=(\".jpg\",)):\n",
    "    \"\"\"Get absolute paths to files in dir_path with extensions specified by ext.\n",
    "    Note this function does work recursively.\n",
    "    \"\"\"\n",
    "    if not isinstance(ext, tuple):\n",
    "        ext = tuple([ext, ])\n",
    "    filepaths = [os.path.join(root, name)\n",
    "                 for root, dirs, files in os.walk(dir_path)\n",
    "                 for name in files\n",
    "                 if name.endswith(tuple(ext))]\n",
    "    return filepaths\n",
    "\n",
    "\n",
    "def read_compress_raw_img(img_path):\n",
    "    \"\"\"\n",
    "    Args:\n",
    "        img_path: str, path to a raw image (.jpg, ....)\n",
    "    \"\"\"\n",
    "    img = cv2.imread(img_path)  # np array, uint8\n",
    "    encoded_img_arr = cv2.imencode('.jpg', img)[1]\n",
    "    return encoded_img_arr\n",
    "\n",
    "\n",
    "def read_raw_img_from_pair(id_path_pair):\n",
    "    img_id, img_path = id_path_pair\n",
    "    try:\n",
    "        encoded_img_arr = read_compress_raw_img(img_path)\n",
    "        return img_id, encoded_img_arr\n",
    "    except Exception as e:\n",
    "        return img_path, None\n",
    "\n",
    "\n",
    "def write_lmdb_from_id_path(\n",
    "        id_path_pairs, lmdb_save_dir, num_workers,\n",
    "        lmdb_preprocessing_fn=read_raw_img_from_pair):\n",
    "    \"\"\"\n",
    "    Write\n",
    "    Args:\n",
    "        id_path_pairs: list(tuple), each tuple is (file_id, filepath)\n",
    "        lmdb_save_dir: str, path to save lmdb\n",
    "        num_workers: int\n",
    "        lmdb_preprocessing_fn: a function that takes two args [file_id (str), filepath (str)]\n",
    "            and returns [file_id (byte string), value (byte string)] that will be used as\n",
    "            key and value for lmdb txn.put(key=file_id, value=value).\n",
    "            Additionally, this function should handle exceptions, where it should return key as\n",
    "            the filepath, and return value as None.\n",
    "\n",
    "    \"\"\"\n",
    "    env = lmdb.open(lmdb_save_dir, map_size=1024**4)\n",
    "    txn = env.begin(write=True)\n",
    "    error_filepaths = []\n",
    "    if num_workers > 1:\n",
    "        with mp.Pool(num_workers) as pool, tqdm(total=len(id_path_pairs)) as pbar:\n",
    "            for idx, (key, value) in enumerate(\n",
    "                    pool.imap_unordered(\n",
    "                        lmdb_preprocessing_fn, id_path_pairs, chunksize=128)):\n",
    "                if value is None:\n",
    "                    error_filepaths.append(key)\n",
    "                    continue\n",
    "                txn.put(key=str(key).encode(\"utf-8\"), value=value)\n",
    "                if idx % 1000 == 0:\n",
    "                    txn.commit()\n",
    "                    txn = env.begin(write=True)\n",
    "                pbar.update(1)\n",
    "    else:\n",
    "        for idx, pair in tqdm(enumerate(id_path_pairs), total=len(id_path_pairs)):\n",
    "            key, value = lmdb_preprocessing_fn(pair)\n",
    "            if value is None:\n",
    "                error_filepaths.append(key)\n",
    "                continue\n",
    "            txn.put(key=str(key).encode(\"utf-8\"), value=value)\n",
    "            if idx % 1000 == 0:\n",
    "                txn.commit()\n",
    "                txn = env.begin(write=True)\n",
    "\n",
    "    if len(error_filepaths) > 0:\n",
    "        with open(join(lmdb_save_dir, \"error_filepaths.log\"), \"w\") as f:\n",
    "            f.write(\"\\n\".join(error_filepaths))\n",
    "        print(f\"There are {len(error_filepaths)} files raised exceptions, \"\n",
    "              f\"3 examples are {error_filepaths[:3]}\")\n",
    "    txn.commit()\n",
    "    env.close()"
   ],
   "metadata": {
    "collapsed": false,
    "pycharm": {
     "name": "#%%\n"
    }
   }
  },
  {
   "cell_type": "code",
   "execution_count": 4,
   "outputs": [],
   "source": [
    "import os\n",
    "\n",
    "\n",
    "def get_abspaths_by_ext(dir_path, ext=(\".jpg\",)):\n",
    "    \"\"\"Get absolute paths to files in dir_path with extensions specified by ext.\n",
    "    Note this function does work recursively.\n",
    "    \"\"\"\n",
    "    if not isinstance(ext, tuple):\n",
    "        ext = tuple([ext, ])\n",
    "    filepaths = [os.path.join(root, name)\n",
    "                 for root, dirs, files in os.walk(dir_path)\n",
    "                 for name in files\n",
    "                 if name.endswith(tuple(ext))]\n",
    "    return filepaths\n",
    "\n",
    "\n",
    "def get_filename(filepath):\n",
    "    return os.path.splitext(os.path.split(filepath)[1])[0]\n",
    "\n",
    "\n",
    "def main_convert():\n",
    "    lmdb_save_dir = 'output/'\n",
    "    file_type='video'\n",
    "    if os.path.exists(lmdb_save_dir) and os.listdir(lmdb_save_dir):\n",
    "        raise ValueError(f\"lmdb_save_dir {lmdb_save_dir} already exists and is not empty\")\n",
    "    else:\n",
    "        os.makedirs(lmdb_save_dir, exist_ok=True)\n",
    "\n",
    "    file_paths = get_abspaths_by_ext(dir_path='/Users/myding/Desktop/demo25/frames/', ext=('mp4',))\n",
    "    id_path_pairs = [(get_filename(p), p) for p in file_paths]\n",
    "    lmdb_preprocessing_fn = read_raw_binary_from_pair \\\n",
    "        if file_type == \"video\" else read_raw_img_from_pair\n",
    "    write_lmdb_from_id_path(\n",
    "        id_path_pairs=id_path_pairs,\n",
    "        lmdb_save_dir=lmdb_save_dir,\n",
    "        lmdb_preprocessing_fn=lmdb_preprocessing_fn,\n",
    "        num_workers=4\n",
    "    )"
   ],
   "metadata": {
    "collapsed": false,
    "pycharm": {
     "name": "#%%\n"
    }
   }
  },
  {
   "cell_type": "code",
   "execution_count": 5,
   "outputs": [
    {
     "name": "stderr",
     "output_type": "stream",
     "text": [
      "100%|██████████| 1/1 [00:00<00:00, 232.46it/s]\n"
     ]
    }
   ],
   "source": [
    "main_convert()"
   ],
   "metadata": {
    "collapsed": false,
    "pycharm": {
     "name": "#%%\n"
    }
   }
  },
  {
   "cell_type": "code",
   "execution_count": 6,
   "outputs": [],
   "source": [
    "import io\n",
    "\n",
    "env = lmdb.open('output/', readonly=True, create=False)\n",
    "txn = env.begin(buffers=True)\n",
    "io_stream = io.BytesIO(txn.get(str('data').encode(\"utf-8\")))"
   ],
   "metadata": {
    "collapsed": false,
    "pycharm": {
     "name": "#%%\n"
    }
   }
  },
  {
   "cell_type": "code",
   "execution_count": 19,
   "outputs": [
    {
     "name": "stdout",
     "output_type": "stream",
     "text": [
      "b'data' <memory at 0x101289f2288>\n"
     ]
    }
   ],
   "source": [
    "for key, value in txn.cursor():\n",
    "  print (io.BytesIO(key).getvalue(), io.BytesIO(value))"
   ],
   "metadata": {
    "collapsed": false,
    "pycharm": {
     "name": "#%%\n"
    }
   }
  },
  {
   "cell_type": "code",
   "execution_count": 21,
   "outputs": [
    {
     "name": "stdout",
     "output_type": "stream",
     "text": [
      "torch.Size([480, 320, 3])\n"
     ]
    }
   ],
   "source": [
    "import sys\n",
    "import lmdb\n",
    "import cv2\n",
    "sys.path.insert(0, '.')\n",
    "from src.datasets.dataset_base import extract_frames_from_video_binary\n",
    "\n",
    "import io\n",
    "\n",
    "env = lmdb.open('output/', readonly=True, create=False)\n",
    "txn = env.begin(buffers=True)\n",
    "io_stream = io.BytesIO(txn.get(str('data').encode(\"utf-8\")))\n",
    "\n",
    "for key, value in txn.cursor():\n",
    "    key = io.BytesIO(key).getvalue().decode('utf-8')\n",
    "    value = io.BytesIO(value)\n",
    "    frames = extract_frames_from_video_binary(value)[0]\n",
    "    print(frames[0].transpose(0, 2).shape)\n",
    "    for i in range(3):\n",
    "        cv2.imwrite(f'{i}.png', frames[i].transpose(0, 2).numpy())"
   ],
   "metadata": {
    "collapsed": false,
    "pycharm": {
     "name": "#%%\n"
    }
   }
  },
  {
   "cell_type": "code",
   "execution_count": null,
   "outputs": [],
   "source": [],
   "metadata": {
    "collapsed": false,
    "pycharm": {
     "name": "#%%\n"
    }
   }
  }
 ],
 "metadata": {
  "kernelspec": {
   "display_name": "Python 3",
   "language": "python",
   "name": "python3"
  },
  "language_info": {
   "codemirror_mode": {
    "name": "ipython",
    "version": 2
   },
   "file_extension": ".py",
   "mimetype": "text/x-python",
   "name": "python",
   "nbconvert_exporter": "python",
   "pygments_lexer": "ipython2",
   "version": "2.7.6"
  }
 },
 "nbformat": 4,
 "nbformat_minor": 0
}