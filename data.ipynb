{
 "cells": [
  {
   "cell_type": "code",
   "execution_count": 23,
   "metadata": {
    "collapsed": true
   },
   "outputs": [
    {
     "name": "stdout",
     "output_type": "stream",
     "text": [
      "{\"answer\": \"yes\", \"question\": \"Are there any light moving gray objects when the video ends?\", \"video_id\": \"video0\", \"answer_type\": \"object_mass_exist\"}\n"
     ]
    }
   ],
   "source": [
    "import json\n",
    "\n",
    "data_path = '/Users/myding/Desktop/questions_v16_3_4/'\n",
    "des_path = data_path + 'open_end_questions.json'\n",
    "mc_path = data_path + 'multiple_choice_questions.json'\n",
    "\n",
    "\n",
    "answer_list = []\n",
    "\n",
    "question_data = json.load(open(des_path))\n",
    "\n",
    "for index, questions in enumerate(question_data):\n",
    "    if (index + 1) % 100 == 0:\n",
    "        print(index)\n",
    "\n",
    "    for item in questions[\"questions\"]:\n",
    "        data_item = {}\n",
    "        question = item['question']\n",
    "        answer = item['answer']\n",
    "        words = question.replace('?', '').strip().split()\n",
    "        data_item['answer'] = answer\n",
    "        data_item['question'] = question\n",
    "        data_item['video_id'] = 'video' + str(index)\n",
    "        data_item['answer_type'] = item['question_family']\n",
    "        print(json.dumps(data_item))\n",
    "        word_set = answer.split()\n",
    "        word_set.sort()\n",
    "        answer_list.append('_'.join(word_set))"
   ]
  },
  {
   "cell_type": "code",
   "execution_count": 19,
   "outputs": [
    {
     "name": "stdout",
     "output_type": "stream",
     "text": [
      "99\n",
      "199\n",
      "299\n",
      "399\n",
      "499\n",
      "599\n",
      "699\n",
      "799\n",
      "899\n",
      "999\n",
      "1099\n",
      "1199\n",
      "1299\n",
      "1399\n",
      "1499\n",
      "1599\n",
      "1699\n",
      "1799\n",
      "1899\n",
      "1999\n",
      "2099\n",
      "2199\n",
      "2299\n",
      "2399\n",
      "2499\n",
      "2599\n",
      "2699\n",
      "2799\n",
      "2899\n",
      "2999\n",
      "3099\n",
      "3199\n",
      "3299\n",
      "3399\n",
      "3499\n",
      "3599\n",
      "3699\n",
      "3799\n",
      "3899\n",
      "3999\n",
      "4099\n",
      "4199\n",
      "4299\n",
      "4399\n",
      "4499\n",
      "4599\n",
      "4699\n",
      "4799\n",
      "4899\n",
      "4999\n",
      "5099\n",
      "5199\n",
      "5299\n",
      "5399\n",
      "5499\n",
      "5599\n",
      "5699\n",
      "5799\n",
      "5899\n",
      "5999\n",
      "6099\n",
      "6199\n",
      "6299\n",
      "6399\n",
      "6499\n",
      "6599\n",
      "6699\n",
      "6799\n",
      "6899\n",
      "6999\n",
      "7099\n",
      "7199\n",
      "7299\n",
      "7399\n",
      "7499\n",
      "7599\n",
      "7699\n",
      "7799\n",
      "7899\n",
      "7999\n",
      "8099\n",
      "8199\n",
      "8299\n",
      "8399\n",
      "8499\n",
      "8599\n",
      "8699\n",
      "8799\n",
      "8899\n",
      "8999\n",
      "9099\n",
      "9199\n",
      "9299\n",
      "9399\n",
      "9499\n",
      "9599\n",
      "9699\n",
      "9799\n",
      "9899\n",
      "9999\n"
     ]
    }
   ],
   "source": [
    "question_data = json.load(open(mc_path))\n",
    "\n",
    "for index, questions in enumerate(question_data):\n",
    "    if (index + 1) % 100 == 0:\n",
    "        print(index)\n",
    "    for item in questions[\"questions\"]:\n",
    "        # print(item)\n",
    "        # break\n",
    "        question = item['question']\n",
    "        correct = item['correct']\n",
    "        answer = 'True'\n",
    "        answer_list.append(answer)\n",
    "        for i in correct:\n",
    "            data_item = {}\n",
    "            data_item['question'] = question + ' ' + i[0]\n",
    "            data_item['answer'] = answer\n",
    "            data_item['video_id'] = 'video' + str(index)\n",
    "            data_item['answer_type'] = item['question_type']\n",
    "        wrong = item['wrong']\n",
    "        answer = 'False'\n",
    "        answer_list.append(answer)\n",
    "        for i in wrong:\n",
    "            data_item = {}\n",
    "            data_item['question'] = question + ' ' + i[0]\n",
    "            data_item['answer'] = answer\n",
    "            data_item['video_id'] = 'video' + str(index)\n",
    "            data_item['answer_type'] = item['question_type']"
   ],
   "metadata": {
    "collapsed": false,
    "pycharm": {
     "name": "#%%\n"
    }
   }
  },
  {
   "cell_type": "code",
   "execution_count": 20,
   "outputs": [],
   "source": [
    "answer_dict = {}\n",
    "answer_vocab = list(set(answer_list))\n",
    "for index, item in enumerate(answer_vocab):\n",
    "    answer_dict[item] = index"
   ],
   "metadata": {
    "collapsed": false,
    "pycharm": {
     "name": "#%%\n"
    }
   }
  },
  {
   "cell_type": "code",
   "execution_count": 21,
   "outputs": [
    {
     "data": {
      "text/plain": "{'left': 0,\n 'green': 1,\n 'and_gray_yellow': 2,\n 'gray': 3,\n 'and_purple_red': 4,\n 'and_blue_yellow': 5,\n 'and_blue_red': 6,\n 'and_blue_purple': 7,\n 'and_cylinder_sphere': 8,\n 'and_gray_green': 9,\n '2': 10,\n 'cube': 11,\n 'and_gray_purple': 12,\n 'yes': 13,\n 'and_cube_sphere': 14,\n 'rubber': 15,\n 'and_cyan_red': 16,\n 'and_cyan_purple': 17,\n 'no': 18,\n 'and_cyan_yellow': 19,\n 'and_cyan_green': 20,\n 'True': 21,\n 'right': 22,\n 'and_gray_red': 23,\n 'and_blue_green': 24,\n 'and_brown_green': 25,\n 'cylinder': 26,\n 'and_brown_red': 27,\n 'and_blue_gray': 28,\n 'sphere': 29,\n 'down': 30,\n 'and_cube_cylinder': 31,\n '4': 32,\n 'and_blue_cyan': 33,\n 'and_cyan_gray': 34,\n 'and_green_yellow': 35,\n 'and_green_purple': 36,\n 'and_brown_gray': 37,\n 'False': 38,\n '3': 39,\n 'cyan': 40,\n 'yellow': 41,\n 'and_blue_brown': 42,\n 'and_brown_purple': 43,\n '0': 44,\n 'and_brown_cyan': 45,\n 'red': 46,\n 'and_purple_yellow': 47,\n 'and_green_red': 48,\n 'metal': 49,\n 'brown': 50,\n '1': 51,\n 'up': 52,\n 'purple': 53,\n 'and_brown_yellow': 54,\n 'and_red_yellow': 55,\n 'blue': 56}"
     },
     "execution_count": 21,
     "metadata": {},
     "output_type": "execute_result"
    }
   ],
   "source": [
    "answer_dict"
   ],
   "metadata": {
    "collapsed": false,
    "pycharm": {
     "name": "#%%\n"
    }
   }
  },
  {
   "cell_type": "code",
   "execution_count": null,
   "outputs": [],
   "source": [],
   "metadata": {
    "collapsed": false,
    "pycharm": {
     "name": "#%%\n"
    }
   }
  }
 ],
 "metadata": {
  "kernelspec": {
   "display_name": "Python 3",
   "language": "python",
   "name": "python3"
  },
  "language_info": {
   "codemirror_mode": {
    "name": "ipython",
    "version": 2
   },
   "file_extension": ".py",
   "mimetype": "text/x-python",
   "name": "python",
   "nbconvert_exporter": "python",
   "pygments_lexer": "ipython2",
   "version": "2.7.6"
  }
 },
 "nbformat": 4,
 "nbformat_minor": 0
}